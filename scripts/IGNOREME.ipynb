{
 "cells": [
  {
   "cell_type": "markdown",
   "metadata": {},
   "source": [
    "# Hier teste ich Funktionen und Libraries aus die ich im wahren Projekt dann brauche"
   ]
  },
  {
   "cell_type": "markdown",
   "metadata": {},
   "source": [
    "## Daten \n",
    "(netzwerk) in einem externen file speichern, retrieven und updaten"
   ]
  },
  {
   "cell_type": "code",
   "execution_count": 9,
   "metadata": {},
   "outputs": [
    {
     "name": "stdout",
     "output_type": "stream",
     "text": [
      "[{'name': 'Alice', 'age': 25}, {'name': 'Bob', 'age': 30}]\n",
      "[\n",
      "    {\n",
      "        \"name\": \"Alice\",\n",
      "        \"age\": 25\n",
      "    },\n",
      "    {\n",
      "        \"name\": \"Bob\",\n",
      "        \"age\": 30\n",
      "    }\n",
      "]\n",
      "[{'name': 'Alice', 'age': 25}, {'name': 'Bob', 'age': 30}]\n"
     ]
    }
   ],
   "source": [
    "import json\n",
    "\n",
    "file_path = \"../model/netzwerk.json\"\n",
    "\n",
    "array = [\n",
    "    {\"name\": \"Alice\", \"age\": 25},\n",
    "    {\"name\": \"Bob\", \"age\": 30}\n",
    "]\n",
    "\n",
    "# --------- PYTHON -> JSON ---------- (LIST -> STRING)\n",
    "json_array = json.dumps(array, indent=4) # indent 4 macht das design besser mit einrückung leslicher\n",
    "\n",
    "# --------- JSON -> PYTHON ---------- (STRING -> LIST)\n",
    "python_array = json.loads(json_array) \n",
    "\n",
    "\n",
    "# ------- JSON-Datei schreiben -------\n",
    "with open(file_path, \"w\") as file: # w steht für write-mode und f ist ein alias für das file in welches man hineinschreibt\n",
    "    json.dump(array, file, indent=4)\n",
    "\n",
    "# ------- JSON-Datei lesen -------\n",
    "with open(file_path, \"r\") as file: # w steht für write-mode und f ist ein alias für das file in welches man hineinschreibt\n",
    "    file_data = json.load(file)\n",
    "\n",
    "# komplettes json leeren aber nicht löschen\n",
    "with open(file_path, 'w') as f:\n",
    "    f.truncate(0)  # Empties the file (0 bytes)\n",
    "\n",
    "print(array) \n",
    "print((json_array)) \n",
    "print(file_data)"
   ]
  },
  {
   "cell_type": "code",
   "execution_count": 10,
   "metadata": {},
   "outputs": [
    {
     "name": "stdout",
     "output_type": "stream",
     "text": [
      "[1, 2, 3, 4, 5]\n",
      "3\n",
      "[1, 2, 3, 0, 5]\n"
     ]
    }
   ],
   "source": [
    "# rückwärts durch eine liste iterieren: ein paar sachen ausprobieren\n",
    "\n",
    "liste = [1, 2, 3, 4, 5]\n",
    "\n",
    "print(liste)\n",
    "for i in reversed(range(len(liste))):\n",
    "    if i == 2:\n",
    "        print(liste[i])\n",
    "        liste[i+1] = liste[i+1]*0\n",
    "print(liste)"
   ]
  }
 ],
 "metadata": {
  "kernelspec": {
   "display_name": "venv",
   "language": "python",
   "name": "python3"
  },
  "language_info": {
   "codemirror_mode": {
    "name": "ipython",
    "version": 3
   },
   "file_extension": ".py",
   "mimetype": "text/x-python",
   "name": "python",
   "nbconvert_exporter": "python",
   "pygments_lexer": "ipython3",
   "version": "3.12.3"
  }
 },
 "nbformat": 4,
 "nbformat_minor": 2
}
