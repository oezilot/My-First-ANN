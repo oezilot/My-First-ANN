{
 "cells": [
  {
   "cell_type": "code",
   "execution_count": 25,
   "metadata": {},
   "outputs": [],
   "source": [
    "import random\n",
    "import math\n",
    "import numpy as np\n",
    "from scipy.optimize import fmin\n",
    "from training_data import generate_train_data"
   ]
  },
  {
   "cell_type": "markdown",
   "metadata": {},
   "source": [
    "## trainingsdaten generieren"
   ]
  },
  {
   "cell_type": "code",
   "execution_count": 26,
   "metadata": {},
   "outputs": [
    {
     "name": "stdout",
     "output_type": "stream",
     "text": [
      "([1, 1, 1, 0, 0, 0, 0, 0, 0], 1)\n"
     ]
    }
   ],
   "source": [
    "training_data = generate_train_data(10, 3) # 10 pixelbilder generieren welche 3X3 pixel gross sind\n",
    "\n",
    "training_data_sample = training_data[0]\n",
    "training_data_sample_target = [1, 0] if training_data[0][1] == 1 else [0, 1]\n",
    "training_data_sample_image = training_data[0][0]\n",
    "\n",
    "print(training_data_sample) # beispiel einer horizontale"
   ]
  },
  {
   "cell_type": "markdown",
   "metadata": {},
   "source": [
    "## Netzwerk initialisieren\n",
    "- funktionen definieren\n",
    "- funktionen aufrufen"
   ]
  },
  {
   "cell_type": "code",
   "execution_count": 27,
   "metadata": {},
   "outputs": [],
   "source": [
    "# funktion für fake weights und fake biases eines neurons\n",
    "def init_bias():\n",
    "    bias = random.uniform(-0.5, 0.5)\n",
    "    return bias\n",
    "#print(init_bias())\n",
    "\n",
    "def init_weights(anz_weights):\n",
    "    weights = [random.uniform(-0.5, 0.5) for _ in range(anz_weights)]\n",
    "    return weights\n",
    "#print(init_weights(4))\n",
    "\n",
    "\n",
    "def init_network(dimension):\n",
    "\n",
    "    network = [] # eine liste von listen von dictionaries (jedes neuron wird von einem dicrionary repräsentiert)\n",
    "    \n",
    "    # ----- Input layer ----- (hat keine biases oder weights!)\n",
    "    # für jedes layer eine liste machen und diese mit den dictionaries füllen\n",
    "    for layer in dimension[:1]: # nur für die input layers\n",
    "        network.append([\n",
    "            {\n",
    "                \"weights\":None, \n",
    "                \"bias\":None, \n",
    "                \"activation\":None, \n",
    "                \"error\": None\n",
    "            } for _ in range(layer)\n",
    "        ]) # liste mit leeren dictionaries hinzufügen für jedes neuron des inputlayers\n",
    "\n",
    "    # ----- Hidden layers -----\n",
    "    # Für jedes Hidden-Layer eine Liste mit Dictionaries hinzufügen, diese haben weights und biases\n",
    "    for index, layer in enumerate(dimension[1:-1], start=1):  # i startet bei 1, weil wir ab der 2. Schicht zählen\n",
    "        network.append([\n",
    "        {\n",
    "            \"weights\": init_weights(dimension[index - 1]),  # Anzahl Gewichte = Anz. Neuronen im vorherigen Layer\n",
    "            \"bias\": init_bias(),\n",
    "            \"activation\": None, \n",
    "            \"error\": None\n",
    "        } for _ in range(layer)  # Anzahl Neuronen in der aktuellen Schicht\n",
    "    ])\n",
    "        \n",
    "    # ----- Output layer -----\n",
    "    # Für das otput Layer eine Liste mit Dictionaries hinzufügen, diese haben weights und biases\n",
    "    for index, layer in enumerate(dimension[-1:], start=-1):  # i startet bei 1, weil wir ab der 2. Schicht zählen\n",
    "        network.append([\n",
    "        {\n",
    "            \"weights\": init_weights(dimension[index - 1]),  # Anzahl Gewichte = Anz. Neuronen im vorherigen Layer\n",
    "            \"bias\": init_bias(),\n",
    "            \"activation\": None, \n",
    "            \"error\": None\n",
    "        } for _ in range(layer)  # Anzahl Neuronen in der aktuellen Schicht\n",
    "    ])\n",
    "    return network\n",
    "#print(init_network([9, 5, 5, 2]))"
   ]
  },
  {
   "cell_type": "code",
   "execution_count": 28,
   "metadata": {},
   "outputs": [
    {
     "name": "stdout",
     "output_type": "stream",
     "text": [
      "\n",
      "------------------- Netzwerk (v.1) vor der Forward-Propagation mit initialisierten b, w -------------------\n",
      "\n",
      "🔹 Ebene 0:\n",
      "  ▪ Element 0: {'weights': None, 'bias': None, 'activation': None, 'target_activation': None, 'error': None}\n",
      "  ▪ Element 1: {'weights': None, 'bias': None, 'activation': None, 'target_activation': None, 'error': None}\n",
      "  ▪ Element 2: {'weights': None, 'bias': None, 'activation': None, 'target_activation': None, 'error': None}\n",
      "  ▪ Element 3: {'weights': None, 'bias': None, 'activation': None, 'target_activation': None, 'error': None}\n",
      "  ▪ Element 4: {'weights': None, 'bias': None, 'activation': None, 'target_activation': None, 'error': None}\n",
      "  ▪ Element 5: {'weights': None, 'bias': None, 'activation': None, 'target_activation': None, 'error': None}\n",
      "  ▪ Element 6: {'weights': None, 'bias': None, 'activation': None, 'target_activation': None, 'error': None}\n",
      "  ▪ Element 7: {'weights': None, 'bias': None, 'activation': None, 'target_activation': None, 'error': None}\n",
      "  ▪ Element 8: {'weights': None, 'bias': None, 'activation': None, 'target_activation': None, 'error': None}\n",
      "\n",
      "\n",
      "🔹 Ebene 1:\n",
      "  ▪ Element 0: {'weights': [-0.41720651499734684, -0.10729303970261084, 0.07588099492338019, -0.3675962673583033, -0.4683451640444176, -0.455930120982434, 0.29802212810123785, -0.4070259226845053, -0.37314114139154864], 'bias': -0.22113560138990151, 'activation': None, 'target_activation': None, 'error': None}\n",
      "  ▪ Element 1: {'weights': [0.007096240801122589, 0.4528821571844476, 0.1258737750135075, 0.22903610735133384, 0.3672142839674378, 0.48568699721163955, 0.025443163923716705, 0.38044973639901447, 0.13133753351568167], 'bias': 0.474579356066276, 'activation': None, 'target_activation': None, 'error': None}\n",
      "  ▪ Element 2: {'weights': [0.3604804554618669, -0.1561776861683748, 0.11772204882649462, 0.007592805100205546, 0.10923295427735202, 0.4040172530916436, -0.3103750030953042, -0.0398941245166794, 0.3318317145217602], 'bias': -0.09815280182267361, 'activation': None, 'target_activation': None, 'error': None}\n",
      "  ▪ Element 3: {'weights': [-0.17263705774610616, 0.44937107274393484, -0.39740223378636486, -0.08087096708644559, 0.33594492132184306, 0.04729523868628638, -0.15535982388150693, 0.46509269116852614, -0.15982660846045005], 'bias': 0.448796506469325, 'activation': None, 'target_activation': None, 'error': None}\n",
      "  ▪ Element 4: {'weights': [-0.214608512528085, 0.37983868460393244, -0.20188682712647932, -0.4602025387372285, -0.13685893919808212, -0.28048323688194277, 0.31269277173798493, -0.4089577486099457, -0.49066013761910887], 'bias': 0.10581542057704796, 'activation': None, 'target_activation': None, 'error': None}\n",
      "\n",
      "\n",
      "🔹 Ebene 2:\n",
      "  ▪ Element 0: {'weights': [-0.4069106134684337, 0.312828843727747, -0.0332707999710089, 0.11439266861892528, 0.22433167197738735], 'bias': 0.32986511711417554, 'activation': None, 'target_activation': None, 'error': None}\n",
      "  ▪ Element 1: {'weights': [-0.34803401056577254, 0.45641797946649565, 0.008147148729725662, 0.04738098996118101, 0.08048969787885174], 'bias': 0.09830461218407116, 'activation': None, 'target_activation': None, 'error': None}\n",
      "  ▪ Element 2: {'weights': [0.44134100712936586, 0.09529486344085292, -0.1882111710265476, 0.28538189206819475, -0.47081563132493387], 'bias': -0.26217860718302444, 'activation': None, 'target_activation': None, 'error': None}\n",
      "  ▪ Element 3: {'weights': [0.055639218930155554, -0.0023512989049797595, -0.024802780301004357, -0.4068740853412396, -0.22936460831045613], 'bias': -0.3597613388388313, 'activation': None, 'target_activation': None, 'error': None}\n",
      "  ▪ Element 4: {'weights': [-0.3470506027434398, 0.11348533938621552, 0.4427563771402957, 0.42160502657492116, -0.04295959820775874], 'bias': -0.44004647567459376, 'activation': None, 'target_activation': None, 'error': None}\n",
      "\n",
      "\n",
      "🔹 Ebene 3:\n",
      "  ▪ Element 0: {'weights': [-0.14227383299500584, -0.4426801429327831, -0.05429094452338401, -0.2879637820724946, 0.3763541525117583], 'bias': -0.16759458109935577, 'activation': None, 'target_activation': None, 'error': None}\n",
      "  ▪ Element 1: {'weights': [-0.2358698323316436, 0.4380545067753925, -0.43912982762512, -0.19355796063511888, -0.04431123535539827], 'bias': -0.4819485742730124, 'activation': None, 'target_activation': None, 'error': None}\n",
      "\n",
      "\n"
     ]
    }
   ],
   "source": [
    "network_dimension = [9, 5, 5, 2]\n",
    "\n",
    "network1 = init_network(network_dimension) # netzerkt nach dem n-1 ten durchlauf\n",
    "\n",
    "# funktion um das netzwerk schöner darzustellen\n",
    "def print_array_structure(array):\n",
    "    for i, layer in enumerate(array):\n",
    "        print(f\"🔹 Ebene {i}:\")\n",
    "        for j, element in enumerate(layer):\n",
    "            print(f\"  ▪ Element {j}: {{'weights': {element[\"weights\"]}, 'bias': {element['bias']}, 'activation': {element['activation']}, 'target_activation': {element['activation']}, 'error': {element['error']}}}\")\n",
    "        print(\"\\n\")\n",
    "\n",
    "print(f\"\\n------------------- Netzwerk (v.1) vor der Forward-Propagation mit initialisierten b, w -------------------\\n\")\n",
    "print_array_structure(network1)"
   ]
  },
  {
   "cell_type": "markdown",
   "metadata": {},
   "source": [
    "## forward propagation\n",
    "- funktioen definieren\n",
    "  - aktivierungsfunktionen\n",
    "- funktionen aufrufen"
   ]
  },
  {
   "cell_type": "code",
   "execution_count": 29,
   "metadata": {},
   "outputs": [
    {
     "name": "stdout",
     "output_type": "stream",
     "text": [
      "0.6590011388859679\n"
     ]
    }
   ],
   "source": [
    "# aktivierungsfunktionen\n",
    "\n",
    "def activation_relu(x): # hidden layers (werden hier die resultate nicht immer mit jedem layer höher?)\n",
    "    return max(0, x)\n",
    "\n",
    "def activation_sigmoid(x):\n",
    "    return 1 / (1 + math.exp(-x))\n",
    "\n",
    "def softmax(x, x_list): # output layer\n",
    "    x_list = [math.exp(i) for i in x_list]\n",
    "    return math.exp(x) / sum(x_list)\n",
    "\n",
    "print(softmax(2.0, [2.0, 1.0, 0.1]))"
   ]
  },
  {
   "cell_type": "code",
   "execution_count": 30,
   "metadata": {},
   "outputs": [
    {
     "name": "stdout",
     "output_type": "stream",
     "text": [
      "Input Pixelbild: [1, 1, 1, 0, 0, 0, 0, 0, 0]\n",
      "\n",
      "------------------- Netzwerk (v.2) nach der Forward-Propagation mit initialisierten a -------------------\n",
      "\n",
      "🔹 Ebene 0:\n",
      "  ▪ Element 0: {'weights': None, 'bias': None, 'activation': 1, 'target_activation': 1, 'error': None}\n",
      "  ▪ Element 1: {'weights': None, 'bias': None, 'activation': 1, 'target_activation': 1, 'error': None}\n",
      "  ▪ Element 2: {'weights': None, 'bias': None, 'activation': 1, 'target_activation': 1, 'error': None}\n",
      "  ▪ Element 3: {'weights': None, 'bias': None, 'activation': 0, 'target_activation': 0, 'error': None}\n",
      "  ▪ Element 4: {'weights': None, 'bias': None, 'activation': 0, 'target_activation': 0, 'error': None}\n",
      "  ▪ Element 5: {'weights': None, 'bias': None, 'activation': 0, 'target_activation': 0, 'error': None}\n",
      "  ▪ Element 6: {'weights': None, 'bias': None, 'activation': 0, 'target_activation': 0, 'error': None}\n",
      "  ▪ Element 7: {'weights': None, 'bias': None, 'activation': 0, 'target_activation': 0, 'error': None}\n",
      "  ▪ Element 8: {'weights': None, 'bias': None, 'activation': 0, 'target_activation': 0, 'error': None}\n",
      "\n",
      "\n",
      "🔹 Ebene 1:\n",
      "  ▪ Element 0: {'weights': [-0.41720651499734684, -0.10729303970261084, 0.07588099492338019, -0.3675962673583033, -0.4683451640444176, -0.455930120982434, 0.29802212810123785, -0.4070259226845053, -0.37314114139154864], 'bias': -0.22113560138990151, 'activation': 0, 'target_activation': 0, 'error': None}\n",
      "  ▪ Element 1: {'weights': [0.007096240801122589, 0.4528821571844476, 0.1258737750135075, 0.22903610735133384, 0.3672142839674378, 0.48568699721163955, 0.025443163923716705, 0.38044973639901447, 0.13133753351568167], 'bias': 0.474579356066276, 'activation': 1.0604315290653537, 'target_activation': 1.0604315290653537, 'error': None}\n",
      "  ▪ Element 2: {'weights': [0.3604804554618669, -0.1561776861683748, 0.11772204882649462, 0.007592805100205546, 0.10923295427735202, 0.4040172530916436, -0.3103750030953042, -0.0398941245166794, 0.3318317145217602], 'bias': -0.09815280182267361, 'activation': 0.22387201629731313, 'target_activation': 0.22387201629731313, 'error': None}\n",
      "  ▪ Element 3: {'weights': [-0.17263705774610616, 0.44937107274393484, -0.39740223378636486, -0.08087096708644559, 0.33594492132184306, 0.04729523868628638, -0.15535982388150693, 0.46509269116852614, -0.15982660846045005], 'bias': 0.448796506469325, 'activation': 0.32812828768078883, 'target_activation': 0.32812828768078883, 'error': None}\n",
      "  ▪ Element 4: {'weights': [-0.214608512528085, 0.37983868460393244, -0.20188682712647932, -0.4602025387372285, -0.13685893919808212, -0.28048323688194277, 0.31269277173798493, -0.4089577486099457, -0.49066013761910887], 'bias': 0.10581542057704796, 'activation': 0.06915876552641609, 'target_activation': 0.06915876552641609, 'error': None}\n",
      "\n",
      "\n",
      "🔹 Ebene 2:\n",
      "  ▪ Element 0: {'weights': [-0.4069106134684337, 0.312828843727747, -0.0332707999710089, 0.11439266861892528, 0.22433167197738735], 'bias': 0.32986511711417554, 'activation': 0.7072002571103995, 'target_activation': 0.7072002571103995, 'error': None}\n",
      "  ▪ Element 1: {'weights': [-0.34803401056577254, 0.45641797946649565, 0.008147148729725662, 0.04738098996118101, 0.08048969787885174], 'bias': 0.09830461218407116, 'activation': 0.6052421579033227, 'target_activation': 0.6052421579033227, 'error': None}\n",
      "  ▪ Element 2: {'weights': [0.44134100712936586, 0.09529486344085292, -0.1882111710265476, 0.28538189206819475, -0.47081563132493387], 'bias': -0.26217860718302444, 'activation': 0, 'target_activation': 0, 'error': None}\n",
      "  ▪ Element 3: {'weights': [0.055639218930155554, -0.0023512989049797595, -0.024802780301004357, -0.4068740853412396, -0.22936460831045613], 'bias': -0.3597613388388313, 'activation': 0, 'target_activation': 0, 'error': None}\n",
      "  ▪ Element 4: {'weights': [-0.3470506027434398, 0.11348533938621552, 0.4427563771402957, 0.42160502657492116, -0.04295959820775874], 'bias': -0.44004647567459376, 'activation': 0, 'target_activation': 0, 'error': None}\n",
      "\n",
      "\n",
      "🔹 Ebene 3:\n",
      "  ▪ Element 0: {'weights': [-0.14227383299500584, -0.4426801429327831, -0.05429094452338401, -0.2879637820724946, 0.3763541525117583], 'bias': -0.16759458109935577, 'activation': 0.4619455759153258, 'target_activation': 0.4619455759153258, 'error': None}\n",
      "  ▪ Element 1: {'weights': [-0.2358698323316436, 0.4380545067753925, -0.43912982762512, -0.19355796063511888, -0.04431123535539827], 'bias': -0.4819485742730124, 'activation': 0.5380544240846741, 'target_activation': 0.5380544240846741, 'error': None}\n",
      "\n",
      "\n",
      "None\n",
      "Input Pixelbild: [1, 1, 1, 0, 0, 0, 0, 0, 0]\n",
      "Outputs des letzten Layers: [0.4619455759153258, 0.5380544240846741]\n"
     ]
    }
   ],
   "source": [
    "# forwardpropagation\n",
    "\n",
    "def forward_propagation(pixel_bild, netzwerk): # im pronzip füllt diese fuktion das feld \"activation\" des dictinaries!\n",
    "    print(f\"Input Pixelbild: {pixel_bild}\")\n",
    "\n",
    "    new_network = netzwerk\n",
    "\n",
    "    # INPUT-LAYER: den inputwert des inputlayers als activation setzen\n",
    "    for neuron in range(network_dimension[0]):\n",
    "        new_network[0][neuron][\"activation\"] = pixel_bild[neuron] \n",
    "\n",
    "    # HIDDEN-LAYERS und OUTPUT-LAYER: die informationen n-ten layers werden ans n+1-ten layer weitergegeben (für das letzte layer muss eine sigmoid-funktin verwendet werden damit man die klassifiezierung so durchführen kann dass  näher bei 1 oder näher bei 0 aufteilen kann)\n",
    "    for n in range(1, len(new_network)):\n",
    "        outputs = []\n",
    "\n",
    "        # folgendes wird für jedes neuron eines layers gemacht\n",
    "        for neuron in range(network_dimension[n]):\n",
    "            prev_activations = [new_network[n-1][i][\"activation\"] for i in range(network_dimension[n-1])] # liste mit activations des vorherigen layers\n",
    "            akt_weights = new_network[n][neuron][\"weights\"] # liste mit den weights eines neurons des 2ten layers\n",
    "            akt_bias = new_network[n][neuron][\"bias\"]\n",
    "            \n",
    "            # output-layer\n",
    "            if n == len(new_network)-1:\n",
    "                outputs.append(sum([prev_activations[x] * akt_weights[x] for x in range(len(prev_activations))]) + akt_bias)\n",
    "                if neuron == network_dimension[n]-1:\n",
    "                    pixel_updated_output = [softmax(outputs[output], outputs) for output in range((network_dimension[n]))]\n",
    "                    for sm in range(len(pixel_updated_output)):\n",
    "                        new_network[n][sm][\"activation\"] = pixel_updated_output[sm] # summe aller activations aus dem letzen layer  \n",
    "            \n",
    "            # alle anderen hidden layers\n",
    "            else:\n",
    "                pixel_updated = activation_relu(sum([prev_activations[x] * akt_weights[x] for x in range(len(prev_activations))]) + akt_bias)\n",
    "                new_network[n][neuron][\"activation\"] = pixel_updated # summe aller activations aus dem letzen layer  \n",
    "\n",
    "    return new_network, [node[\"activation\"] for node in new_network[-1]] # mit pixelbild ist hier der semantsche vektor des letzen layers gemeint, also der activations des letzen layers\n",
    "\n",
    "network_f = forward_propagation(training_data_sample[0], network1)[0]\n",
    "\n",
    "print(f\"\\n------------------- Netzwerk (v.2) nach der Forward-Propagation mit initialisierten a -------------------\\n\")\n",
    "print(print_array_structure(network_f))\n",
    "print(f\"Outputs des letzten Layers: {(forward_propagation(training_data_sample[0], network1)[1])}\")"
   ]
  },
  {
   "cell_type": "markdown",
   "metadata": {},
   "source": [
    "## prediction machen"
   ]
  },
  {
   "cell_type": "code",
   "execution_count": 31,
   "metadata": {},
   "outputs": [],
   "source": [
    "# prediction machen\n",
    "def predict(image, network):\n",
    "    return 0"
   ]
  },
  {
   "cell_type": "markdown",
   "metadata": {},
   "source": [
    "## Backpropagation"
   ]
  },
  {
   "attachments": {
    "41d55c0f-d1ed-420e-9090-d701fe6352e8.png": {
     "image/png": "[encoded data removed]"
    },
    "8d085fb2-d880-4361-ae32-4cbbd1250bdd.png": {
     "image/png": "[encoded data removed]"
    },
    "c6bfdb5a-1673-4146-b292-418b25facdf1.png": {
     "image/png": "[encoded data removed]"
    },
    "d9f1d649-b718-4b19-8c5c-1d59c3bec49e.png": {
     "image/png": "[encoded data removed]"
    }
   },
   "cell_type": "markdown",
   "metadata": {},
   "source": [
    "**loss funktion:** \n",
    "warum ein log? für kleine werte (tiefe wks) gibt es grosse outputs! das heisst dass für eine kleine WK wie 0.1 ein grosser fehler berechnet wird! (das sorgt dafür dasss die back-prop nicht nur für die momentanen resultate optimiet sondern such für vergangene)\n",
    "\n",
    "![image.png](attachment:8d085fb2-d880-4361-ae32-4cbbd1250bdd.png)![image.png](attachment:c6bfdb5a-1673-4146-b292-418b25facdf1.png)\n",
    "\n",
    "**gradient descent:**\n",
    "\n",
    "was macht gradient descent = es berechnet für das aktuelle neuron das neu gewicht!\n",
    "\n",
    "was ist ein gradient?\n",
    "- ein gradients ist eine menge (liste) von partiellen ableitungen. wenn man eine funktion f(x, y, z) ableitet bekommt man 3 partielle abletungen, eine für x, y, z! hier kann man x, y, z als die verschiedenen weigts sehen oder vilmehr ihre faktoren !\n",
    "- den partiellen gradient berechnet man für jedes gewicht eines neurons, dieser gradient sagt uns dann wie stark dieses gewicht zum loss beigetragen hat!\n",
    "\n",
    "   - a = lernrate, so stark werden die gewichte verändert (werte zwischen 0.001 und 0.01)\n",
    "   - gradient (ableitung) = aprev * error = bringt variatät hinein damit alle neuronen der selben schicht nicht gleich sind. da sie bei der berechnung der aktuellen activation mit den weights multipliziert wurden habe sie bestimmt wie stark das weigth einfluss auf den error hatte, es ist also ein einflussfaktor bei der berechnung des errors (ich verwende hier die vereinfachte variante!)\n",
    "   - w = das letzte weight muss auch noch miteinfliessen damit das model nicht komplett neu überschrieben wird! wenn neue gewichte entstehen passiert das immer nter berücksichtigung der alten gewichte!\n",
    "\n",
    "![image.png](attachment:41d55c0f-d1ed-420e-9090-d701fe6352e8.png)![image.png](attachment:d9f1d649-b718-4b19-8c5c-1d59c3bec49e.png)"
   ]
  },
  {
   "cell_type": "code",
   "execution_count": 54,
   "metadata": {},
   "outputs": [
    {
     "name": "stdout",
     "output_type": "stream",
     "text": [
      "-0.0\n",
      "0.10536051565782628\n"
     ]
    }
   ],
   "source": [
    "# funktionen\n",
    "\n",
    "# der output ist eine zahl für ein layer: den error für das gesamte outputlayer berechnen (das braucht man nur um zu messen wie gut das modell ist!)\n",
    "def cross_entropy_loss(predictions, targets):\n",
    "    \n",
    "    epsilon = 1e-15  # Kleiner Wert, um log(0) zu vermeiden\n",
    "    predictions = [max(p, epsilon) for p in predictions]  # Verhindert log(0)\n",
    "    \n",
    "    return -sum(tar * math.log(pred) for pred, tar in zip(predictions, targets)) # mathematische formel für das loss\n",
    "\n",
    "# das berechnet den loss für nur ein neuron mit allen weights einberechnet\n",
    "def calc_gradients(prev_activations, error):\n",
    "\n",
    "    # das sind die partiellen ableitungen von jedem gewicht eines neurons in einer liste zusammengetragen\n",
    "    gradients = [(error * prev_activations[i]) for i in range(len(prev_activations))] # error * pred_previous\n",
    "\n",
    "    return gradients\n",
    "\n",
    "def calc_error(pred, target):\n",
    "    return target - pred\n",
    "\n",
    "\n",
    "print(cross_entropy_loss([1, 0], [1, 0])) # der loss ist nicht null wenn es dem target entspricht sondern wenn 100% zu 0% steht!\n",
    "print(cross_entropy_loss([0.9, 0.1], [1, 0])) # ein sehr geringes loss für eine sehr gute prediction!"
   ]
  },
  {
   "cell_type": "code",
   "execution_count": 59,
   "metadata": {},
   "outputs": [
    {
     "name": "stdout",
     "output_type": "stream",
     "text": [
      "Loss: 0.6197955639279934\n",
      "Error: -0.4619455759153258\n",
      "Gradients of neuron Nr.0: [-0.32668803005832997, -0.27958893720088496, -0.0, -0.0, -0.0]\n",
      "Die weights: [-0.14227383299500584, -0.4426801429327831, -0.05429094452338401, -0.2879637820724946, 0.3763541525117583] werden mit den weights [-0.13900695269442254, -0.43988425356077426, -0.05429094452338401, -0.2879637820724946, 0.3763541525117583] ersetzt!\n",
      "Der Bias: -0.16759458109935577 wurde mit -0.1629751253402025 ersetzt!\n",
      "Error: 0.4619455759153259\n",
      "Gradients of neuron Nr.1: [0.32668803005833, 0.279588937200885, 0.0, 0.0, 0.0]\n",
      "Die weights: [-0.2358698323316436, 0.4380545067753925, -0.43912982762512, -0.19355796063511888, -0.04431123535539827] werden mit den weights [-0.2391367126322269, 0.4352586174033836, -0.43912982762512, -0.19355796063511888, -0.04431123535539827] ersetzt!\n",
      "Der Bias: -0.4819485742730124 wurde mit -0.48656803003216564 ersetzt!\n",
      "\n",
      "------------------- Netzwerk (v.3) nach der Backward-Propagation mit veränderten w, b -------------------\n",
      "\n",
      "🔹 Ebene 0:\n",
      "  ▪ Element 0: {'weights': None, 'bias': None, 'activation': 1, 'target_activation': 1, 'error': None}\n",
      "  ▪ Element 1: {'weights': None, 'bias': None, 'activation': 1, 'target_activation': 1, 'error': None}\n",
      "  ▪ Element 2: {'weights': None, 'bias': None, 'activation': 1, 'target_activation': 1, 'error': None}\n",
      "  ▪ Element 3: {'weights': None, 'bias': None, 'activation': 0, 'target_activation': 0, 'error': None}\n",
      "  ▪ Element 4: {'weights': None, 'bias': None, 'activation': 0, 'target_activation': 0, 'error': None}\n",
      "  ▪ Element 5: {'weights': None, 'bias': None, 'activation': 0, 'target_activation': 0, 'error': None}\n",
      "  ▪ Element 6: {'weights': None, 'bias': None, 'activation': 0, 'target_activation': 0, 'error': None}\n",
      "  ▪ Element 7: {'weights': None, 'bias': None, 'activation': 0, 'target_activation': 0, 'error': None}\n",
      "  ▪ Element 8: {'weights': None, 'bias': None, 'activation': 0, 'target_activation': 0, 'error': None}\n",
      "\n",
      "\n",
      "🔹 Ebene 1:\n",
      "  ▪ Element 0: {'weights': [-0.41720651499734684, -0.10729303970261084, 0.07588099492338019, -0.3675962673583033, -0.4683451640444176, -0.455930120982434, 0.29802212810123785, -0.4070259226845053, -0.37314114139154864], 'bias': -0.22113560138990151, 'activation': 0, 'target_activation': 0, 'error': None}\n",
      "  ▪ Element 1: {'weights': [0.007096240801122589, 0.4528821571844476, 0.1258737750135075, 0.22903610735133384, 0.3672142839674378, 0.48568699721163955, 0.025443163923716705, 0.38044973639901447, 0.13133753351568167], 'bias': 0.474579356066276, 'activation': 1.0604315290653537, 'target_activation': 1.0604315290653537, 'error': None}\n",
      "  ▪ Element 2: {'weights': [0.3604804554618669, -0.1561776861683748, 0.11772204882649462, 0.007592805100205546, 0.10923295427735202, 0.4040172530916436, -0.3103750030953042, -0.0398941245166794, 0.3318317145217602], 'bias': -0.09815280182267361, 'activation': 0.22387201629731313, 'target_activation': 0.22387201629731313, 'error': None}\n",
      "  ▪ Element 3: {'weights': [-0.17263705774610616, 0.44937107274393484, -0.39740223378636486, -0.08087096708644559, 0.33594492132184306, 0.04729523868628638, -0.15535982388150693, 0.46509269116852614, -0.15982660846045005], 'bias': 0.448796506469325, 'activation': 0.32812828768078883, 'target_activation': 0.32812828768078883, 'error': None}\n",
      "  ▪ Element 4: {'weights': [-0.214608512528085, 0.37983868460393244, -0.20188682712647932, -0.4602025387372285, -0.13685893919808212, -0.28048323688194277, 0.31269277173798493, -0.4089577486099457, -0.49066013761910887], 'bias': 0.10581542057704796, 'activation': 0.06915876552641609, 'target_activation': 0.06915876552641609, 'error': None}\n",
      "\n",
      "\n",
      "🔹 Ebene 2:\n",
      "  ▪ Element 0: {'weights': [-0.4069106134684337, 0.312828843727747, -0.0332707999710089, 0.11439266861892528, 0.22433167197738735], 'bias': 0.32986511711417554, 'activation': 0.7072002571103995, 'target_activation': 0.7072002571103995, 'error': None}\n",
      "  ▪ Element 1: {'weights': [-0.34803401056577254, 0.45641797946649565, 0.008147148729725662, 0.04738098996118101, 0.08048969787885174], 'bias': 0.09830461218407116, 'activation': 0.6052421579033227, 'target_activation': 0.6052421579033227, 'error': None}\n",
      "  ▪ Element 2: {'weights': [0.44134100712936586, 0.09529486344085292, -0.1882111710265476, 0.28538189206819475, -0.47081563132493387], 'bias': -0.26217860718302444, 'activation': 0, 'target_activation': 0, 'error': None}\n",
      "  ▪ Element 3: {'weights': [0.055639218930155554, -0.0023512989049797595, -0.024802780301004357, -0.4068740853412396, -0.22936460831045613], 'bias': -0.3597613388388313, 'activation': 0, 'target_activation': 0, 'error': None}\n",
      "  ▪ Element 4: {'weights': [-0.3470506027434398, 0.11348533938621552, 0.4427563771402957, 0.42160502657492116, -0.04295959820775874], 'bias': -0.44004647567459376, 'activation': 0, 'target_activation': 0, 'error': None}\n",
      "\n",
      "\n",
      "🔹 Ebene 3:\n",
      "  ▪ Element 0: {'weights': [-0.13900695269442254, -0.43988425356077426, -0.05429094452338401, -0.2879637820724946, 0.3763541525117583], 'bias': -0.1629751253402025, 'activation': 0.4619455759153258, 'target_activation': 0.4619455759153258, 'error': -0.4619455759153258}\n",
      "  ▪ Element 1: {'weights': [-0.2391367126322269, 0.4352586174033836, -0.43912982762512, -0.19355796063511888, -0.04431123535539827], 'bias': -0.48656803003216564, 'activation': 0.5380544240846741, 'target_activation': 0.5380544240846741, 'error': 0.4619455759153259}\n",
      "\n",
      "\n"
     ]
    }
   ],
   "source": [
    "# backpropagation\n",
    "def backprop(netzwerk, target, lr):\n",
    "\n",
    "    network_b = netzwerk\n",
    "\n",
    "    # LOSS wie gut ist das modell? (LOSS für das letzte layer berechnen)\n",
    "    predictions = [network_b[-1][pred][\"activation\"] for pred in range(len(network_b[-1]))]\n",
    "    targets = [tar for tar in target]\n",
    "    loss = cross_entropy_loss(predictions, targets)\n",
    "    print(f\"Loss: {loss}\")\n",
    "    \n",
    "    # OUTPUT-LAYER -----------------------\n",
    "    for neuron in range(len(network_b[-1])):\n",
    "        \n",
    "        # den error berechnen für jedes neuron\n",
    "        error = calc_error(network_b[-1][neuron][\"activation\"], target[neuron]) # ERROR-BERECHNEN-FUNKTION\n",
    "        network_b[-1][neuron][\"error\"] = error\n",
    "        print(f\"Error: {error}\")\n",
    "\n",
    "        # gradienten berechnen\n",
    "        prev_activations = [network_b[-2][n][\"activation\"] for n in range(len(network_b[-2]))]\n",
    "        gradients = calc_gradients(prev_activations, error) # GRADIENT-BERECHNEN-FUNKTION für die weigths\n",
    "        gradient = error\n",
    "        print(f\"Gradients of neuron Nr.{neuron}: {gradients}\")\n",
    "\n",
    "        # die neuen gewichte berechnen\n",
    "        weights = network_b[-1][neuron][\"weights\"]\n",
    "        new_weights = [weights[w] - lr * gradients[w] for w in range(len(weights))] # WEIGHT-UPDATE-FUNKTION\n",
    "        network_b[-1][neuron][\"weights\"] = new_weights\n",
    "        print(f\"Die weights: {weights} werden mit den weights {new_weights} ersetzt!\")\n",
    "        \n",
    "        # den bias anpassen\n",
    "        bias = network_b[-1][neuron][\"bias\"]\n",
    "        new_bias = bias - lr * gradient \n",
    "        network_b[-1][neuron][\"bias\"] = new_bias\n",
    "        print(f\"Der Bias: {bias} wurde mit {new_bias} ersetzt!\")\n",
    "\n",
    "\n",
    "    # HIDDEN/INPUT-LAYER -----------------------\n",
    "    for layer in range(len(network_b)-1):\n",
    "        \n",
    "    for neuron in range(len(network_b[-2])):\n",
    "        \n",
    "        # den error berechnen für jedes neuron\n",
    "        next_errors = [network_b[layer + 1][j][\"error\"] * network_b[layer + 1][j][\"weights\"][neuron] for j in range(len(network_b[layer + 1]))]\n",
    "        error = sum(next_errors)\n",
    "        network_b[-1][neuron][\"error\"] = error\n",
    "        print(f\"Error: {error}\")\n",
    "\n",
    "        # gradienten berechnen\n",
    "        prev_activations = [network_b[-2][n][\"activation\"] for n in range(len(network_b[-2]))]\n",
    "        gradients = calc_gradients(prev_activations, error) # GRADIENT-BERECHNEN-FUNKTION für die weigths\n",
    "        gradient = error\n",
    "        print(f\"Gradients of neuron Nr.{neuron}: {gradients}\")\n",
    "\n",
    "        # die neuen gewichte berechnen\n",
    "        weights = network_b[-1][neuron][\"weights\"]\n",
    "        new_weights = [weights[w] - lr * gradients[w] for w in range(len(weights))] # WEIGHT-UPDATE-FUNKTION\n",
    "        network_b[-1][neuron][\"weights\"] = new_weights\n",
    "        print(f\"Die weights: {weights} werden mit den weights {new_weights} ersetzt!\")\n",
    "        \n",
    "        # den bias anpassen\n",
    "        bias = network_b[-1][neuron][\"bias\"]\n",
    "        new_bias = bias - lr * gradient \n",
    "        network_b[-1][neuron][\"bias\"] = new_bias\n",
    "        print(f\"Der Bias: {bias} wurde mit {new_bias} ersetzt!\")\n",
    "\n",
    "        \n",
    "\n",
    "    return network_b\n",
    "\n",
    "network_b = backprop(network_f, [0, 1], 0.01)\n",
    "\n",
    "print(f\"\\n------------------- Netzwerk (v.3) nach der Backward-Propagation mit veränderten w, b -------------------\\n\")\n",
    "print_array_structure(network_b)"
   ]
  },
  {
   "cell_type": "code",
   "execution_count": null,
   "metadata": {},
   "outputs": [],
   "source": []
  }
 ],
 "metadata": {
  "kernelspec": {
   "display_name": "Python (venv)",
   "language": "python",
   "name": "venv"
  },
  "language_info": {
   "codemirror_mode": {
    "name": "ipython",
    "version": 3
   },
   "file_extension": ".py",
   "mimetype": "text/x-python",
   "name": "python",
   "nbconvert_exporter": "python",
   "pygments_lexer": "ipython3",
   "version": "3.12.7"
  }
 },
 "nbformat": 4,
 "nbformat_minor": 4
}
